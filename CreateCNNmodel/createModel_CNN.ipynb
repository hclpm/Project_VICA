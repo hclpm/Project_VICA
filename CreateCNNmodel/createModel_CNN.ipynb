{
 "cells": [
  {
   "cell_type": "code",
   "execution_count": 1,
   "metadata": {},
   "outputs": [],
   "source": [
    "from keras.preprocessing.image import ImageDataGenerator\n",
    "from keras import layers, models"
   ]
  },
  {
   "cell_type": "code",
   "execution_count": 2,
   "metadata": {},
   "outputs": [],
   "source": [
    "# training data location\n",
    "data_dir = 'C:/Users/js2-3/Desktop/Github/PrivateFiles/Projects/Communication_Assistant/CollectDataViaCam/FaceData_extracted'\n",
    "\n",
    "# 이미지 크기 및 배치 크기 설정\n",
    "image_size = (180, 180)\n",
    "batch_size = 8 # 16, 32"
   ]
  },
  {
   "cell_type": "code",
   "execution_count": 3,
   "metadata": {},
   "outputs": [
    {
     "name": "stdout",
     "output_type": "stream",
     "text": [
      "Found 347 images belonging to 3 classes.\n",
      "Found 86 images belonging to 3 classes.\n"
     ]
    }
   ],
   "source": [
    "# 데이터 증강 및 정규화\n",
    "train_datagen = ImageDataGenerator(\n",
    "    rescale=1./255,\n",
    "    validation_split=0.2,\n",
    ")\n",
    "\n",
    "train_generator = train_datagen.flow_from_directory(\n",
    "    data_dir,\n",
    "    target_size=image_size,\n",
    "    batch_size=batch_size,\n",
    "    class_mode='categorical',\n",
    "    subset='training',\n",
    ")\n",
    "\n",
    "validation_generator = train_datagen.flow_from_directory(\n",
    "    data_dir,\n",
    "    target_size=image_size,\n",
    "    batch_size=batch_size,\n",
    "    class_mode='categorical',\n",
    "    subset='validation',\n",
    ")\n",
    "\n",
    "model = models.Sequential([\n",
    "    layers.Conv2D(32, (3, 3), activation='relu', input_shape=(180, 180, 3)),\n",
    "    layers.MaxPooling2D((2, 2)),\n",
    "    # layers.Conv2D(64, (3, 3), activation='relu'),\n",
    "    # layers.MaxPooling2D((2, 2)),\n",
    "    # layers.Conv2D(128, (3, 3), activation='relu'),\n",
    "    # layers.MaxPooling2D((2, 2)),\n",
    "    layers.Flatten(),\n",
    "    layers.Dense(64, activation='relu'),\n",
    "    # layers.Dropout(0.5),  # 드롭아웃 레이어 추가 (0.5는 비율로 조절 가능)\n",
    "    layers.Dense(3, activation='softmax')  # 클래스 개수에 맞게 설정\n",
    "])\n",
    "\n",
    "# 모델 컴파일\n",
    "model.compile(optimizer='adam', loss='categorical_crossentropy', metrics=['accuracy'])\n",
    "\n"
   ]
  },
  {
   "cell_type": "code",
   "execution_count": 4,
   "metadata": {},
   "outputs": [
    {
     "name": "stdout",
     "output_type": "stream",
     "text": [
      "Epoch 1/5\n",
      "43/43 [==============================] - 7s 159ms/step - loss: 3.0910 - accuracy: 0.6136\n",
      "Epoch 2/5\n",
      "43/43 [==============================] - 7s 163ms/step - loss: 0.5067 - accuracy: 0.7493\n",
      "Epoch 3/5\n",
      "43/43 [==============================] - 7s 163ms/step - loss: 0.3250 - accuracy: 0.9086\n",
      "Epoch 4/5\n",
      "43/43 [==============================] - 7s 163ms/step - loss: 0.1448 - accuracy: 0.9705\n",
      "Epoch 5/5\n",
      "43/43 [==============================] - 7s 164ms/step - loss: 0.0419 - accuracy: 0.9971\n"
     ]
    },
    {
     "data": {
      "text/plain": [
       "<keras.src.callbacks.History at 0x230603f36d0>"
      ]
     },
     "execution_count": 4,
     "metadata": {},
     "output_type": "execute_result"
    }
   ],
   "source": [
    "# 모델 학습\n",
    "model.fit(\n",
    "    train_generator,\n",
    "    steps_per_epoch=train_generator.samples // batch_size,\n",
    "    epochs=5\n",
    ")"
   ]
  },
  {
   "cell_type": "code",
   "execution_count": 6,
   "metadata": {},
   "outputs": [
    {
     "name": "stderr",
     "output_type": "stream",
     "text": [
      "c:\\Users\\js2-3\\anaconda3\\Lib\\site-packages\\keras\\src\\engine\\training.py:3079: UserWarning: You are saving your model as an HDF5 file via `model.save()`. This file format is considered legacy. We recommend using instead the native Keras format, e.g. `model.save('my_model.keras')`.\n",
      "  saving_api.save_model(\n"
     ]
    }
   ],
   "source": [
    "model.save(\"C:/Users/js2-3/Desktop/Github/PrivateFiles/Projects/Communication_Assistant/CreateCNNmodel/models/CNNmodel_v1_1129.h5\")"
   ]
  }
 ],
 "metadata": {
  "kernelspec": {
   "display_name": "base",
   "language": "python",
   "name": "python3"
  },
  "language_info": {
   "codemirror_mode": {
    "name": "ipython",
    "version": 3
   },
   "file_extension": ".py",
   "mimetype": "text/x-python",
   "name": "python",
   "nbconvert_exporter": "python",
   "pygments_lexer": "ipython3",
   "version": "3.11.5"
  }
 },
 "nbformat": 4,
 "nbformat_minor": 2
}
