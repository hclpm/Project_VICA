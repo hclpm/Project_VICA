{
 "cells": [
  {
   "cell_type": "code",
   "execution_count": 1,
   "metadata": {},
   "outputs": [],
   "source": [
    "# make Django server folder\n",
    "# must return to the original directory address\n",
    "import os\n",
    "# cd to the location for server\n",
    "os.chdir(\"C:/Users/js2-3/Desktop/Github/PrivateFiles/Projects/Communication_Assistant/VideoCall/Server_django\")\n",
    "# make basic server named \"testserver\"\n",
    "os.system(\"django-admin startproject testserver\")\n",
    "# return to the original directory\n",
    "os.chdir(\"C:/Users/js2-3/Desktop/Github/PrivateFiles/Projects/Communication_Assistant/VideoCall\")"
   ]
  },
  {
   "cell_type": "code",
   "execution_count": null,
   "metadata": {},
   "outputs": [],
   "source": [
    "\n",
    "# python manage.py makemigrations\n",
    "# python manage.py migrate"
   ]
  }
 ],
 "metadata": {
  "kernelspec": {
   "display_name": "base",
   "language": "python",
   "name": "python3"
  },
  "language_info": {
   "codemirror_mode": {
    "name": "ipython",
    "version": 3
   },
   "file_extension": ".py",
   "mimetype": "text/x-python",
   "name": "python",
   "nbconvert_exporter": "python",
   "pygments_lexer": "ipython3",
   "version": "3.11.5"
  }
 },
 "nbformat": 4,
 "nbformat_minor": 2
}
