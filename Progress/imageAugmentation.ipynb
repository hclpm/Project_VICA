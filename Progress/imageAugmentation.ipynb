{
 "cells": [
  {
   "cell_type": "code",
   "execution_count": 11,
   "metadata": {},
   "outputs": [],
   "source": [
    "import os\n",
    "from keras.preprocessing.image import ImageDataGenerator, img_to_array, load_img"
   ]
  },
  {
   "cell_type": "code",
   "execution_count": 12,
   "metadata": {},
   "outputs": [],
   "source": [
    "# 이미지 파일이 있는 디렉토리\n",
    "input_dir = 'C:/Users/js2-3/Desktop/Github/PrivateFiles/Projects/Communication_Assistant/CollectDataViaCam/FaceData_extracted/Hyun_ex'\n",
    "output_dir = 'C:/Users/js2-3/Desktop/Github/PrivateFiles/Projects/Communication_Assistant/CollectDataViaCam/FaceData_AUGED/Hyun_AUG'"
   ]
  },
  {
   "cell_type": "code",
   "execution_count": 13,
   "metadata": {},
   "outputs": [],
   "source": [
    "# 데이터 증강 설정\n",
    "datagen = ImageDataGenerator(\n",
    "    rotation_range=30,\n",
    "    # zoom_range=0.2,\n",
    "    shear_range=0.2,\n",
    "    horizontal_flip=True,\n",
    "    fill_mode='nearest'\n",
    ")"
   ]
  },
  {
   "cell_type": "code",
   "execution_count": 14,
   "metadata": {},
   "outputs": [],
   "source": [
    "# 이미지 파일 목록 얻기\n",
    "image_files = [f for f in os.listdir(input_dir) if os.path.isfile(os.path.join(input_dir, f))]"
   ]
  },
  {
   "cell_type": "code",
   "execution_count": 15,
   "metadata": {},
   "outputs": [],
   "source": [
    "# 데이터 증강 수행\n",
    "for image_file in image_files:\n",
    "    img = load_img(os.path.join(input_dir, image_file))\n",
    "    x = img_to_array(img)\n",
    "    x = x.reshape((1,) + x.shape)  # 모델의 입력 형태에 맞게 배열 재구성\n",
    "\n",
    "    # 이미지를 3배로 증강하고 저장\n",
    "    i = 0   \n",
    "    for batch in datagen.flow(x, batch_size=1, save_to_dir=output_dir, save_prefix='aug', save_format='png'):\n",
    "        i += 1\n",
    "        if i == 2:\n",
    "            break  # 반복을 끝내지 않으면 무한 루프가 될 수 있음"
   ]
  },
  {
   "cell_type": "code",
   "execution_count": null,
   "metadata": {},
   "outputs": [],
   "source": []
  }
 ],
 "metadata": {
  "kernelspec": {
   "display_name": "base",
   "language": "python",
   "name": "python3"
  },
  "language_info": {
   "codemirror_mode": {
    "name": "ipython",
    "version": 3
   },
   "file_extension": ".py",
   "mimetype": "text/x-python",
   "name": "python",
   "nbconvert_exporter": "python",
   "pygments_lexer": "ipython3",
   "version": "3.11.5"
  }
 },
 "nbformat": 4,
 "nbformat_minor": 2
}
