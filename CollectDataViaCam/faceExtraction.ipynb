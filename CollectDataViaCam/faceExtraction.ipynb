{
 "cells": [
  {
   "cell_type": "code",
   "execution_count": 30,
   "metadata": {},
   "outputs": [],
   "source": [
    "import cv2\n",
    "import os"
   ]
  },
  {
   "cell_type": "code",
   "execution_count": 31,
   "metadata": {},
   "outputs": [
    {
     "data": {
      "text/plain": [
       "['captured_image_1.png',\n",
       " 'captured_image_10.png',\n",
       " 'captured_image_11.png',\n",
       " 'captured_image_12.png',\n",
       " 'captured_image_13.png',\n",
       " 'captured_image_14.png',\n",
       " 'captured_image_15.png',\n",
       " 'captured_image_16.png',\n",
       " 'captured_image_17.png',\n",
       " 'captured_image_18.png',\n",
       " 'captured_image_19.png',\n",
       " 'captured_image_2.png',\n",
       " 'captured_image_20.png',\n",
       " 'captured_image_21.png',\n",
       " 'captured_image_22.png',\n",
       " 'captured_image_23.png',\n",
       " 'captured_image_24.png',\n",
       " 'captured_image_25.png',\n",
       " 'captured_image_26.png',\n",
       " 'captured_image_27.png',\n",
       " 'captured_image_28.png',\n",
       " 'captured_image_29.png',\n",
       " 'captured_image_3.png',\n",
       " 'captured_image_30.png',\n",
       " 'captured_image_31.png',\n",
       " 'captured_image_32.png',\n",
       " 'captured_image_33.png',\n",
       " 'captured_image_34.png',\n",
       " 'captured_image_35.png',\n",
       " 'captured_image_36.png',\n",
       " 'captured_image_37.png',\n",
       " 'captured_image_38.png',\n",
       " 'captured_image_39.png',\n",
       " 'captured_image_4.png',\n",
       " 'captured_image_40.png',\n",
       " 'captured_image_41.png',\n",
       " 'captured_image_42.png',\n",
       " 'captured_image_43.png',\n",
       " 'captured_image_44.png',\n",
       " 'captured_image_45.png',\n",
       " 'captured_image_46.png',\n",
       " 'captured_image_47.png',\n",
       " 'captured_image_48.png',\n",
       " 'captured_image_49.png',\n",
       " 'captured_image_5.png',\n",
       " 'captured_image_50.png',\n",
       " 'captured_image_6.png',\n",
       " 'captured_image_7.png',\n",
       " 'captured_image_8.png',\n",
       " 'captured_image_9.png']"
      ]
     },
     "execution_count": 31,
     "metadata": {},
     "output_type": "execute_result"
    }
   ],
   "source": [
    "# src data path\n",
    "path = 'C:/Users/js2-3/Desktop/Github/PrivateFiles/Projects/Communication_Assistant/CollectDataViaCam/FaceData/Kwang'\n",
    "file_list = os.listdir(path)\n",
    "file_list"
   ]
  },
  {
   "cell_type": "code",
   "execution_count": 32,
   "metadata": {},
   "outputs": [
    {
     "data": {
      "text/plain": [
       "'captured_image_1'"
      ]
     },
     "execution_count": 32,
     "metadata": {},
     "output_type": "execute_result"
    }
   ],
   "source": [
    "file_name_list = []\n",
    "for i in range(len(file_list)):\n",
    "    file_name_list.append(file_list[i].replace(\".png\", \"\"))\n",
    "file_name_list[0]"
   ]
  },
  {
   "cell_type": "code",
   "execution_count": 33,
   "metadata": {},
   "outputs": [],
   "source": [
    "# # checking face recognition model effectiveness\n",
    "# test_img = cv2.imread(\"C:/Users/js2-3/Desktop/Github/PrivateFiles/Projects/Communication_Assistant/CollectDataViaCam/FaceData/Hyun/captured_image_9.png\")\n",
    "# face_cascade = cv2.CascadeClassifier(\"C:/Users/js2-3/Desktop/Github/PrivateFiles/Projects/Communication_Assistant/models/haarcascade_frontalface_default.xml\")\n",
    "# test_img_gray = cv2.cvtColor(test_img, cv2.COLOR_BGR2GRAY)\n",
    "# faces = face_cascade.detectMultiScale(test_img_gray, 1.3, 5)\n",
    "# for (x, y, w, h) in faces:\n",
    "#     cv2.rectangle(test_img, (x, y), (x+w, y+h), (255, 0, 0), 3)\n",
    "#     cv2.imshow(\"test\", test_img)\n",
    "#     cv2.waitKey(0)\n",
    "#     cv2.destroyAllWindows()"
   ]
  },
  {
   "cell_type": "code",
   "execution_count": 34,
   "metadata": {},
   "outputs": [],
   "source": [
    "# checking extract face area(Rectangular)\n",
    "# test_img = cv2.imread(\"C:/Users/js2-3/Desktop/Github/PrivateFiles/Projects/Communication_Assistant/CollectDataViaCam/FaceData/Hyun/captured_image_9.png\")\n",
    "# face_cascade = cv2.CascadeClassifier(\"C:/Users/js2-3/Desktop/Github/PrivateFiles/Projects/Communication_Assistant/models/haarcascade_frontalface_default.xml\")\n",
    "# test_img_gray = cv2.cvtColor(test_img, cv2.COLOR_BGR2GRAY)\n",
    "# faces = face_cascade.detectMultiScale(test_img_gray, 1.3, 5)\n",
    "# for (x, y, w, h) in faces:\n",
    "#     cv2.rectangle(test_img, (x, y), (x+w, y+h), (255, 0, 0), 3)\n",
    "#     extracted = test_img[y : y+h, x: x+w]\n",
    "#     resized = cv2.resize(extracted, (180, 180))\n",
    "#     cv2.imshow(\"test\", resized)\n",
    "#     cv2.waitKey(0)\n",
    "#     cv2.destroyAllWindows()"
   ]
  },
  {
   "cell_type": "code",
   "execution_count": 35,
   "metadata": {},
   "outputs": [],
   "source": [
    "# Functionalization\n",
    "\n",
    "def faceExtraction(image, name):\n",
    "    import cv2\n",
    "    face_cascade = cv2.CascadeClassifier(\"C:/Users/js2-3/Desktop/Github/PrivateFiles/Projects/Communication_Assistant/Main_13/my_vidstream/haarcascade_frontalface_default.xml\")\n",
    "    gray = cv2.cvtColor(image, cv2.COLOR_BGR2GRAY)\n",
    "    faces = face_cascade.detectMultiScale(gray, 1.3, 5)\n",
    "    for(x, y, w, h) in faces:\n",
    "        extracted = image[y : y+h, x: x+w]\n",
    "        resized = cv2.resize(extracted, (180, 180))\n",
    "        cv2.imwrite(f\"C:/Users/js2-3/Desktop/Github/PrivateFiles/Projects/Communication_Assistant/CollectDataViaCam/FaceData_extracted/Kwang_ex/{name}_01.png\", resized)\n",
    "for name in file_name_list:\n",
    "    img = cv2.imread(\"C:/Users/js2-3/Desktop/Github/PrivateFiles/Projects/Communication_Assistant/CollectDataViaCam/FaceData/Kwang/\"+name+\".png\")\n",
    "    faceExtraction(img, name)"
   ]
  }
 ],
 "metadata": {
  "kernelspec": {
   "display_name": "base",
   "language": "python",
   "name": "python3"
  },
  "language_info": {
   "codemirror_mode": {
    "name": "ipython",
    "version": 3
   },
   "file_extension": ".py",
   "mimetype": "text/x-python",
   "name": "python",
   "nbconvert_exporter": "python",
   "pygments_lexer": "ipython3",
   "version": "3.11.5"
  }
 },
 "nbformat": 4,
 "nbformat_minor": 2
}
